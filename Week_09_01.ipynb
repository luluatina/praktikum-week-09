{
  "nbformat": 4,
  "nbformat_minor": 0,
  "metadata": {
    "colab": {
      "provenance": [],
      "authorship_tag": "ABX9TyP4V0gkk7wFA7dcJ3OlutYb",
      "include_colab_link": true
    },
    "kernelspec": {
      "name": "python3",
      "display_name": "Python 3"
    },
    "language_info": {
      "name": "python"
    }
  },
  "cells": [
    {
      "cell_type": "markdown",
      "metadata": {
        "id": "view-in-github",
        "colab_type": "text"
      },
      "source": [
        "<a href=\"https://colab.research.google.com/github/luluatina/praktikum-week-09/blob/main/Week_09_01.ipynb\" target=\"_parent\"><img src=\"https://colab.research.google.com/assets/colab-badge.svg\" alt=\"Open In Colab\"/></a>"
      ]
    },
    {
      "cell_type": "code",
      "execution_count": null,
      "metadata": {
        "colab": {
          "base_uri": "https://localhost:8080/"
        },
        "id": "Oea_2AsVj5GR",
        "outputId": "4b21d9f7-8dce-4a32-f275-459015fb01ba"
      },
      "outputs": [
        {
          "output_type": "stream",
          "name": "stdout",
          "text": [
            "Nama          : Lu'luatina Zakiyatal Fikri\n",
            "Kelas         : Rombel 1\n",
            "Tanggal Lahir : 28 April 1945\n",
            "No HP         : 0812345678\n",
            "Alamat        : Jl. Balonku Ada No.5\n",
            "Hobi          :\n",
            "- Singing\n",
            "- Listening Music\n",
            "- Playing a musical instrument\n",
            "- Reading comics\n"
          ]
        }
      ],
      "source": [
        "# Mengelola data dengan teknik perulangan menggunakan tipe collection dictionary\n",
        "\n",
        "data_mahasiswa = {\n",
        "    \"Nama          \": \"Lu'luatina Zakiyatal Fikri\",\n",
        "    \"Kelas         \": \"Rombel 1\",\n",
        "    \"Tanggal Lahir \": \"28 April 1945\",\n",
        "    \"No HP         \": \"0812345678\",\n",
        "    \"Alamat        \": \"Jl. Balonku Ada No.5\",\n",
        "    \"Hobi          \": [\"Singing\", \"Listening Music\", \"Playing a musical instrument\", \"Reading comics\"]\n",
        "}\n",
        "\n",
        "for key, value in data_mahasiswa.items():\n",
        "    if key == \"Hobi          \":\n",
        "        print(f\"{key}:\")\n",
        "        for hobi in value:\n",
        "            print(f\"- {hobi}\")\n",
        "    else:\n",
        "        print(f\"{key}: {value}\")"
      ]
    },
    {
      "cell_type": "code",
      "source": [
        "# Mengelola data dengan teknik perulangan menggunakan tipe collection tuple\n",
        "\n",
        "data_mahasiswa = [\n",
        "    (\"Lu'luatina Zakiyatal Fikri\", \"Rombel 1\", \"28 April 1945\", \"0812345678\", \"Jl. Balonku Ada No.5\", (\"Singing\", \"Listening Music\", \"Playing a musical instrument\", \"Reading comics\"))\n",
        "]\n",
        "for mahasiswa in data_mahasiswa:\n",
        "    print(\"Nama         :\", mahasiswa[0])\n",
        "    print(\"Kelas        :\", mahasiswa[1])\n",
        "    print(\"Tanggal Lahir:\", mahasiswa[2])\n",
        "    print(\"No HP        :\", mahasiswa[3])\n",
        "    print(\"Alamat       :\", mahasiswa[4])\n",
        "    print(\"Hobi         :\")\n",
        "    for hobi in mahasiswa[5]:\n",
        "        print(\"- \", hobi)\n"
      ],
      "metadata": {
        "colab": {
          "base_uri": "https://localhost:8080/"
        },
        "id": "NoZEQJPgBy7i",
        "outputId": "b7bae448-2206-4817-c099-39798b58e8f4"
      },
      "execution_count": null,
      "outputs": [
        {
          "output_type": "stream",
          "name": "stdout",
          "text": [
            "Nama         : Lu'luatina Zakiyatal Fikri\n",
            "Kelas        : Rombel 1\n",
            "Tanggal Lahir: 28 April 1945\n",
            "No HP        : 0812345678\n",
            "Alamat       : Jl. Balonku Ada No.5\n",
            "Hobi         :\n",
            "-  Singing\n",
            "-  Listening Music\n",
            "-  Playing a musical instrument\n",
            "-  Reading comics\n"
          ]
        }
      ]
    },
    {
      "cell_type": "code",
      "source": [
        "# Mengelola data dengan teknik perulangan menggunakan tipe collection list\n",
        "mahasiswa = [\n",
        "    {\n",
        "        \"nama\": \"Lu'luatina Zakiyatal Fikri\",\n",
        "        \"kelas\": \"Rombel 1\",\n",
        "        \"tanggal_lahir\": \"28 April 1945\",\n",
        "        \"no_hp\": \"0812345678\",\n",
        "        \"alamat\": \"Jl. Balonku Ada No.5\",\n",
        "        \"hobi\": {\"Singing\", \"Listening music\", \"Playing a musical instrument\", \"Reading comics\"}\n",
        "    }\n",
        "]\n",
        "\n",
        "# Menampilkan data mahasiswa dengan perulangan\n",
        "for mhs in mahasiswa:\n",
        "    print(\"Nama         :\", mhs[\"nama\"])\n",
        "    print(\"Kelas        :\", mhs[\"kelas\"])\n",
        "    print(\"Tanggal Lahir:\", mhs[\"tanggal_lahir\"])\n",
        "    print(\"No HP        :\", mhs[\"no_hp\"])\n",
        "    print(\"Alamat       :\", mhs[\"alamat\"])\n",
        "    print(\"Hobi         :\")\n",
        "    for hobi in mhs[\"hobi\"]:\n",
        "        print(\"-\", hobi)\n",
        "    print()"
      ],
      "metadata": {
        "colab": {
          "base_uri": "https://localhost:8080/"
        },
        "id": "5kd4lz1bjBkH",
        "outputId": "9b100168-e85e-4f95-e15f-29f0e884e322"
      },
      "execution_count": null,
      "outputs": [
        {
          "output_type": "stream",
          "name": "stdout",
          "text": [
            "Nama         : Lu'luatina Zakiyatal Fikri\n",
            "Kelas        : Rombel 1\n",
            "Tanggal Lahir: 28 April 1945\n",
            "No HP        : 0812345678\n",
            "Alamat       : Jl. Balonku Ada No.5\n",
            "Hobi         :\n",
            "- Listening music\n",
            "- Reading comics\n",
            "- Singing\n",
            "- Playing a musical instrument\n",
            "\n"
          ]
        }
      ]
    }
  ]
}